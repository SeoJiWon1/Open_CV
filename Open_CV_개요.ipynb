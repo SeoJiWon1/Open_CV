{
  "nbformat": 4,
  "nbformat_minor": 0,
  "metadata": {
    "colab": {
      "provenance": [],
      "authorship_tag": "ABX9TyPrcBD3KoeON0AaOJ7CDIAk",
      "include_colab_link": true
    },
    "kernelspec": {
      "name": "python3",
      "display_name": "Python 3"
    },
    "language_info": {
      "name": "python"
    }
  },
  "cells": [
    {
      "cell_type": "markdown",
      "metadata": {
        "id": "view-in-github",
        "colab_type": "text"
      },
      "source": [
        "<a href=\"https://colab.research.google.com/github/SeoJiWon1/Open_CV/blob/main/Open_CV_%EA%B0%9C%EC%9A%94.ipynb\" target=\"_parent\"><img src=\"https://colab.research.google.com/assets/colab-badge.svg\" alt=\"Open In Colab\"/></a>"
      ]
    },
    {
      "cell_type": "markdown",
      "source": [
        "# 영상 처리와 컴퓨터 비전"
      ],
      "metadata": {
        "id": "TaRzjmZRf2uS"
      }
    },
    {
      "cell_type": "markdown",
      "source": [
        "## 영상 처리\n",
        "* 카메라로 찍은 사진 또는 영사에 여러 가지 연산을 가해서 원하는 결과를 새롭게 얻어내는 과정 (영상 처리 또는 image processing)\n"
      ],
      "metadata": {
        "id": "1mKE5naNhKvJ"
      }
    },
    {
      "cell_type": "markdown",
      "source": [
        "## 컴퓨터 비전\n",
        "* 컴퓨터 비전은 영상 처리 개념을 초함하는 좀 더 큰 포괄적인 의미\n",
        "\n",
        "\n",
        "* 객체 검출(object detection): 영상 속에 원하는 대상이 어디에 있는지 검출\n",
        "* 객체 추적(object tracking): 영상 속 관심 있는 피사체가 어디로 움직이는지 추적\n",
        "* 객체 인식(object recognition): 영상 속 피사체가 무엇인지 인식"
      ],
      "metadata": {
        "id": "va9hOtRCgfVB"
      }
    },
    {
      "cell_type": "code",
      "execution_count": 6,
      "metadata": {
        "id": "a4r7uGGdfSLw"
      },
      "outputs": [],
      "source": [
        "import cv2"
      ]
    }
  ]
}